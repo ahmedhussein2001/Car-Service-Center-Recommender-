{
 "cells": [
  {
   "cell_type": "code",
   "execution_count": 1,
   "metadata": {
    "id": "ORM2NTMij1GF"
   },
   "outputs": [],
   "source": [
    "url = \"https://tawfiqia.com/en/service-center/search\""
   ]
  },
  {
   "cell_type": "code",
   "execution_count": 2,
   "metadata": {
    "colab": {
     "base_uri": "https://localhost:8080/"
    },
    "id": "wdMjVM51oeQR",
    "outputId": "6a27fb93-83d3-48f7-cf85-cb6a90a720f2"
   },
   "outputs": [
    {
     "data": {
      "text/plain": [
       "<Response [200]>"
      ]
     },
     "execution_count": 2,
     "metadata": {},
     "output_type": "execute_result"
    }
   ],
   "source": [
    "import requests\n",
    "requests.get(url)      # check that site allow scrapping or not"
   ]
  },
  {
   "cell_type": "code",
   "execution_count": 3,
   "metadata": {
    "colab": {
     "base_uri": "https://localhost:8080/",
     "height": 145
    },
    "id": "J_yQtNsI03XT",
    "outputId": "10a5aa42-01dd-4bff-eda8-c095444cd4b7"
   },
   "outputs": [],
   "source": [
    "website = requests.get(url).text"
   ]
  },
  {
   "cell_type": "code",
   "execution_count": 4,
   "metadata": {
    "colab": {
     "base_uri": "https://localhost:8080/"
    },
    "id": "kbFijG8Y1KVp",
    "outputId": "d37f4713-48a1-4571-8a3a-ce153b06ec39"
   },
   "outputs": [
    {
     "data": {
      "text/plain": [
       "str"
      ]
     },
     "execution_count": 4,
     "metadata": {},
     "output_type": "execute_result"
    }
   ],
   "source": [
    "type(website)"
   ]
  },
  {
   "cell_type": "code",
   "execution_count": 5,
   "metadata": {
    "id": "L_U_wRag1PR9"
   },
   "outputs": [],
   "source": [
    "from bs4 import BeautifulSoup as bs"
   ]
  },
  {
   "cell_type": "code",
   "execution_count": 6,
   "metadata": {
    "id": "Yv8wF_zL1kvg"
   },
   "outputs": [],
   "source": [
    "htmlwebsite = bs(website , 'lxml')"
   ]
  },
  {
   "cell_type": "code",
   "execution_count": 7,
   "metadata": {
    "id": "bC8AGyMtS1z6"
   },
   "outputs": [],
   "source": [
    "# lxml : parser --> understand string as html"
   ]
  },
  {
   "cell_type": "code",
   "execution_count": 8,
   "metadata": {
    "colab": {
     "base_uri": "https://localhost:8080/"
    },
    "id": "t_oSa_ZFTDnB",
    "outputId": "2beb8885-3fc5-4028-8675-9af5a2d43300"
   },
   "outputs": [
    {
     "name": "stdout",
     "output_type": "stream",
     "text": [
      "<class 'bs4.BeautifulSoup'>\n"
     ]
    }
   ],
   "source": [
    "print(type(htmlwebsite))"
   ]
  },
  {
   "cell_type": "code",
   "execution_count": 9,
   "metadata": {
    "colab": {
     "base_uri": "https://localhost:8080/"
    },
    "id": "9VhyODm6TDpg",
    "outputId": "e246421e-a449-4049-a0ce-3641092780e4"
   },
   "outputs": [
    {
     "data": {
      "text/plain": [
       "<title>توفيقية.كوم | Tawfiqia - Best Car Service Centers in Egypt</title>"
      ]
     },
     "execution_count": 9,
     "metadata": {},
     "output_type": "execute_result"
    }
   ],
   "source": [
    "htmlwebsite.title"
   ]
  },
  {
   "cell_type": "code",
   "execution_count": 10,
   "metadata": {
    "colab": {
     "base_uri": "https://localhost:8080/",
     "height": 36
    },
    "id": "McXrIfTDTDs6",
    "outputId": "4f126570-3008-4ead-b084-442e7800ef05"
   },
   "outputs": [
    {
     "data": {
      "text/plain": [
       "'توفيقية.كوم | Tawfiqia - Best Car Service Centers in Egypt'"
      ]
     },
     "execution_count": 10,
     "metadata": {},
     "output_type": "execute_result"
    }
   ],
   "source": [
    "htmlwebsite.title.text"
   ]
  },
  {
   "cell_type": "code",
   "execution_count": 11,
   "metadata": {
    "id": "r_9xEaG6UFsi"
   },
   "outputs": [],
   "source": [
    "service_center = htmlwebsite.find(\"div\" , class_ = \"row service-center-row color-gray-new-30\")"
   ]
  },
  {
   "cell_type": "code",
   "execution_count": 12,
   "metadata": {
    "colab": {
     "base_uri": "https://localhost:8080/"
    },
    "id": "Y9Z_CeQCUF1e",
    "outputId": "eda70ed3-9314-49bf-8d97-c1c73166d3b8"
   },
   "outputs": [
    {
     "name": "stdout",
     "output_type": "stream",
     "text": [
      "El Mikaneeky - ElNozha\n"
     ]
    }
   ],
   "source": [
    "service_center_name = service_center.find(\"a\", class_=\"cat-title service-center-title\").text.strip()\n",
    "print(service_center_name)"
   ]
  },
  {
   "cell_type": "code",
   "execution_count": 13,
   "metadata": {
    "colab": {
     "base_uri": "https://localhost:8080/"
    },
    "id": "dAwvrh7rWnWP",
    "outputId": "28ee4a89-e86e-44a2-eb48-3201b3a60be2"
   },
   "outputs": [
    {
     "name": "stdout",
     "output_type": "stream",
     "text": [
      "Nasr City  - Cairo\n"
     ]
    }
   ],
   "source": [
    "location = service_center.find(\"span\" , class_=\"service-center-tag\").text.strip()\n",
    "print(location)"
   ]
  },
  {
   "cell_type": "code",
   "execution_count": 14,
   "metadata": {
    "colab": {
     "base_uri": "https://localhost:8080/"
    },
    "id": "OQwWfkYUWTdV",
    "outputId": "b5daa842-1104-4678-f4af-460a5e61e998"
   },
   "outputs": [
    {
     "name": "stdout",
     "output_type": "stream",
     "text": [
      "2.63\n"
     ]
    }
   ],
   "source": [
    "rate = service_center.find(\"span\", class_=\"service-center-rate\").text\n",
    "print(rate)"
   ]
  },
  {
   "cell_type": "code",
   "execution_count": 15,
   "metadata": {
    "colab": {
     "base_uri": "https://localhost:8080/"
    },
    "id": "UemN6UDhXPiJ",
    "outputId": "29fc566c-ff44-44e6-ccd5-c95260de588c"
   },
   "outputs": [
    {
     "data": {
      "text/plain": [
       "10"
      ]
     },
     "execution_count": 15,
     "metadata": {},
     "output_type": "execute_result"
    }
   ],
   "source": [
    "service_centers = htmlwebsite.find_all(\"div\" , class_ = \"row service-center-row color-gray-new-30\")\n",
    "len(service_centers)"
   ]
  },
  {
   "cell_type": "code",
   "execution_count": null,
   "metadata": {
    "id": "iX6dd_cjboH0"
   },
   "outputs": [],
   "source": []
  },
  {
   "cell_type": "code",
   "execution_count": 16,
   "metadata": {
    "colab": {
     "base_uri": "https://localhost:8080/"
    },
    "id": "65BazQ_pbj_a",
    "outputId": "3748de31-50c4-4c72-a7a5-cc5e31f713eb"
   },
   "outputs": [
    {
     "name": "stdout",
     "output_type": "stream",
     "text": [
      "El Mikaneeky - ElNozha Nasr City  - Cairo 2.63\n",
      "IN.MOTORS 6 October  - Giza 3.10\n",
      "fix lane 6 October  - Giza 4.19\n",
      "7 Cylinder 6 October  - Giza 4.59\n",
      "Auto zone Mokatam  - Cairo 3.67\n",
      "Abousefein Mokatam  - Cairo 5.00\n",
      "Amir & Joseph Nasr City  - Cairo 0.00\n",
      "SUBARIST Nasr City  - Cairo 0.00\n",
      "Auto Spot 6 October  - Giza 0.00\n",
      "Car Clinic Nasr City  - Cairo 3.50\n"
     ]
    }
   ],
   "source": [
    "for service_center in service_centers :\n",
    "  service_center_name = service_center.find(\"a\", class_=\"cat-title service-center-title\").text.strip()\n",
    "  location = service_center.find(\"span\" , class_=\"service-center-tag\").text.strip()\n",
    "  rate = service_center.find(\"span\", class_=\"service-center-rate\").text\n",
    "  print(service_center_name,location,rate)"
   ]
  },
  {
   "cell_type": "code",
   "execution_count": 17,
   "metadata": {
    "id": "S0CnQl-Pe-L4"
   },
   "outputs": [],
   "source": [
    "# page1 : https://tawfiqia.com/en/service-center/search?page=1\n",
    "# page2 : https://tawfiqia.com/en/service-center/search?page=2\n",
    "# page3 : https://tawfiqia.com/en/service-center/search?page=3\n",
    "# page4 : https://tawfiqia.com/en/service-center/search?page=4\n",
    "# page5 : https://tawfiqia.com/en/service-center/search?page=5"
   ]
  },
  {
   "cell_type": "code",
   "execution_count": null,
   "metadata": {
    "id": "yONvdKA7hZSW"
   },
   "outputs": [],
   "source": []
  },
  {
   "cell_type": "code",
   "execution_count": 18,
   "metadata": {
    "colab": {
     "base_uri": "https://localhost:8080/"
    },
    "id": "thdb_fVlJNkK",
    "outputId": "c1d32875-1bd7-46d6-c05d-2452a754e517"
   },
   "outputs": [
    {
     "name": "stdout",
     "output_type": "stream",
     "text": [
      "El Mikaneeky - ElNozha Nasr City  - Cairo 2.63\n",
      "IN.MOTORS 6 October  - Giza 3.10\n",
      "fix lane 6 October  - Giza 4.19\n",
      "7 Cylinder 6 October  - Giza 4.59\n",
      "Auto zone Mokatam  - Cairo 3.67\n",
      "Abousefein Mokatam  - Cairo 5.00\n",
      "Amir & Joseph Nasr City  - Cairo 0.00\n",
      "SUBARIST Nasr City  - Cairo 0.00\n",
      "Auto Spot 6 October  - Giza 0.00\n",
      "Car Clinic Nasr City  - Cairo 3.50\n",
      "Power 52 Nasr City  - Cairo 2.88\n",
      "Protection Team Nasr City  - Cairo 1.00\n",
      "Auto Master Nasr City  - Cairo 3.00\n",
      "Bright Car Maadi  - Cairo 5.00\n",
      "FBS Auto Service Maadi  - Cairo 2.75\n",
      "motor workers Qatamia  - Cairo 0.00\n",
      "Zone Service Maadi  - Cairo 2.00\n",
      "ACA Al-Aksa Auto Group Maadi  - Cairo 5.00\n",
      "CV Joints Technical Center Maadi  - Cairo 3.00\n",
      "El-Safwa Maadi  - Cairo 4.88\n",
      "New Shahin Maadi  - Cairo 5.00\n",
      "Smart Key Misr Elgdida  - Cairo 0.00\n",
      "DT Garage Nasr City  - Cairo 3.88\n",
      "Auto Service Nissan 6 October  - Giza 0.00\n",
      "Garage Auto 6 October  - Giza 4.00\n",
      "Kiro Car 6 October  - Giza 0.00\n",
      "Rally Motors 6 October  - Giza 2.75\n",
      "Toto Giza 0.00\n",
      "El-Sabah 6 October  - Giza 3.88\n",
      "Awija Auto Misr Elgdida  - Cairo 0.00\n",
      "Bimmer's Egypt Misr Elgdida  - Cairo 0.00\n",
      "Car Town Misr Elgdida  - Cairo 0.00\n",
      "Horse Power Misr Elgdida  - Cairo 2.00\n",
      "‎Mansour BMW Misr Elgdida  - Cairo 0.00\n",
      "BYD Garage Misr Elgdida  - Cairo 2.25\n",
      "Fixer Misr Elgdida  - Cairo 0.00\n",
      "The Yard JDM Misr Elgdida  - Cairo 0.00\n",
      "3GEBA AUTO FAST 5th Settlement  - Cairo 0.00\n",
      "Toyota Al-Rehab El-Rehab  - Cairo 1.75\n",
      "ECFCM‎ Misr Elgdida  - Cairo 0.00\n",
      "7 Cylinders - Qatamia Qatamia  - Cairo 2.75\n",
      "EZAZ Co Nasr City Nasr City  - Cairo 5.00\n",
      "EZAZ Co Misr Elgdida Misr Elgdida  - Cairo 1.00\n",
      "EZAZ Co 6 October 6 October  - Giza 0.00\n",
      "Amir & Joseph multi brand Misr Elgdida  - Cairo 0.00\n",
      "Awija Auto 5th Settlement 5th Settlement  - Cairo 2.60\n",
      "Rescue Crane Nasr City Nasr City  - Cairo 0.00\n",
      "Rescue Crane Mokattam Mokatam  - Cairo 0.00\n",
      "Rescue Crane 5th Settlement 5th Settlement  - Cairo 2.75\n",
      "Rescue Crane Misr Elgedida Misr Elgdida  - Cairo 0.00\n",
      "Rescue Crane EL REHAB El-Rehab  - Cairo 0.50\n",
      "Rescue Crane Qatameya Qatamia  - Cairo 0.00\n",
      "Rescue Crane Maadi Maadi  - Cairo 0.50\n",
      "Rescue Crane 6-October 6 October  - Giza 0.00\n",
      "ACA Al-Aksa Auto Group - elrehab El-Rehab  - Cairo 4.50\n",
      "Aman Safety Group 6 October  - Giza 0.00\n",
      "Zaker Hussien Oil Nasr City  - Cairo 0.00\n",
      "El-Iraqi Nasr City  - Cairo 1.00\n",
      "El-Zafer Car Service Nasr City  - Cairo 4.50\n",
      "El-Rashedy Car Accessories Nasr City  - Cairo 0.00\n",
      "SOV 6 October  - Giza 1.00\n",
      "Egy-French car maintenance center 6 October  - Giza 0.00\n",
      "Wahdan Motors Tanta  - Gharbia 0.00\n",
      "El Mikaniky 5th Settlement  - Cairo 0.50\n",
      "Waha Bosch Service Center El-Rehab  - Cairo 5.00\n",
      "Al Jazeera auto service Maadi  - Cairo 0.00\n",
      "Vehicle Boost 5th Settlement  - Cairo 4.00\n",
      "Auto Care Service Center Nasr City  - Cairo 0.00\n",
      "On Track Auto Service Center Qatamia  - Cairo 0.00\n",
      "KIA Glow Certified Center Elmanial المنيل  - Cairo 0.00\n",
      "Auto Master Elrehab El-Rehab  - Cairo 0.00\n",
      "Auto Go Service Center Nasr City  - Cairo 0.00\n",
      "Power Center Mokatam  - Cairo 0.75\n",
      "Alqahira Auto Nasr City  - Cairo 3.25\n",
      "AF Motors Nasr City  - Cairo 0.00\n",
      "Renault Store Nasr City  - Cairo 0.00\n",
      "Renault Clinic Maadi  - Cairo 5.00\n",
      "Italian Cars Nasr City  - Cairo 0.00\n",
      "Amin Auto Service Nissan 6 October 6 October  - Giza 0.00\n",
      "Work shop Khafaga Mokatam  - Cairo 0.00\n",
      "Auto Fix Service Center Nasr City  - Cairo 4.50\n",
      "El Shorbagy Auto Service Nasr City  - Cairo 0.00\n",
      "MSM Tuning Nasr City  - Cairo 0.00\n",
      "VAGO Auto Services Misr Elgdida  - Cairo 4.75\n",
      "La Garage Service Center Mokatam  - Cairo 0.00\n",
      "Renault Prof Nasr City  - Cairo 0.00\n",
      "German Garage Auto Service 6 October  - Giza 2.00\n",
      "VW Garage Qatamia  - Cairo 0.00\n",
      "Volvo Egypt Service Center 6 October  - Giza 0.00\n",
      "Czech Service Center 6 October  - Giza 0.00\n",
      "Al Baraka service center El  - Cairo 1.50\n",
      "Alfewago service center Maadi  - Cairo 2.50\n",
      "3alasphalt 5th Settlement  - Cairo 3.83\n",
      "The King tuning center 6 October  - Giza 3.00\n",
      "El Bialy Automotive service Haram  - Giza 0.00\n",
      "Automotive Technology Center -3rd settlement 5th Settlement  - Cairo 2.83\n",
      "Dent Master Maadi  - Cairo 0.00\n",
      "VAG Boys Service Center Misr Elgdida  - Cairo 0.00\n",
      "Mitsubishi Online Service Mokatam  - Cairo 2.83\n",
      "Saber Opel Nasr City  - Cairo 5.00\n",
      "Car Lab Maadi  - Cairo 0.00\n",
      "fast service Nasr City  - Cairo 0.00\n",
      "Auto master - gesr el suez Nasr City  - Cairo 0.00\n",
      "Prestige car care center El mohandsen  - Giza 0.00\n",
      "Car Test Service Center El mohandsen  - Giza 0.00\n",
      "Opel garage - New Cairo 5th Settlement  - Cairo 5.00\n",
      "Autotechnik - 6october 6 October  - Giza 0.00\n",
      "Autotechnik - new Cairo 5th Settlement  - Cairo 0.00\n",
      "Seka Cars Services 6 October  - Giza 0.00\n",
      "Kuwait & Arab States Co. Doki  - Giza 2.00\n",
      "Waha Bosch el-shorouk city el shorouk city  - Cairo 1.67\n",
      "Location Auto Service 6 October  - Giza 0.00\n",
      "I-Car for accessories Nasr City  - Cairo 0.00\n",
      "ITuner for car accessories Misr Elgdida  - Cairo 0.00\n",
      "Protect Me Egypt - New Cairo 5th Settlement  - Cairo 0.75\n",
      "Protect Me Egypt - Maadi Maadi  - Cairo 0.00\n",
      "Protect Me Egypt -  Sheikh Zayed 6 October  - Giza 0.00\n",
      "MAX Shield Misr Elgdida  - Cairo 0.00\n",
      "Green Care 5th Settlement  - Cairo 0.00\n",
      "Detailing Co. 6 October  - Giza 0.00\n",
      "WrapStyle Cairo 5th Settlement  - Cairo 0.00\n",
      "Jeans car Nasr City  - Cairo 0.00\n",
      "Al-Salam Car Furniture Factory Maadi  - Cairo 0.00\n",
      "Ahmed Design el shorouk city  - Cairo 0.00\n",
      "Screen car Misr Elgdida  - Cairo 0.00\n",
      "Diamond Care 6 October  - Giza 0.00\n",
      "johnson.egy 6 October  - Giza 0.00\n",
      "ProGuys Egypt 5th Settlement  - Cairo 0.00\n",
      "El Shamy Accessories Nasr City  - Cairo 0.00\n",
      "Interior Luxury Car Salon 6 October  - Giza 0.00\n",
      "M.I.A Garage Nasr City  - Cairo 0.00\n",
      "M.S Car Tuning Nasr City  - Cairo 0.00\n",
      "elmarsafawy Mokatam  - Cairo 0.50\n",
      "Wassel Misr Elgdida  - Cairo 4.25\n",
      "Turbo Auto Service Nasr City  - Cairo 5.00\n",
      "Golden Service Mokatam  - Cairo 0.00\n",
      "Doctor BMW - Roxy Misr Elgdida  - Cairo 0.00\n",
      "SpeeDee Auto Service Nasr City  - Cairo 0.00\n",
      "Auto power service hub Misr Elgdida  - Cairo 3.00\n",
      "El Warشa Haram  - Giza 0.00\n",
      "Gear Box Auto Service elsalam city  - Cairo 0.00\n",
      "auto nissan 6 October  - Giza 0.00\n",
      "Engine car service 6 October  - Giza 0.00\n",
      "Auto Clinic Service - Fiat 6 October  - Giza 2.75\n",
      "ClutCh elsalam city  - Cairo 0.00\n",
      "Renault turbo Nasr City  - Cairo 0.00\n",
      "engineering for Renault El  - Cairo 3.00\n",
      "RS Auto Repair Qatamia  - Cairo 0.00\n",
      "Renault El Sharkawy - El Obour El  - Cairo 0.50\n",
      "El HANY Maadi  - Cairo 0.00\n",
      "Auto Run Maadi  - Cairo 5.00\n",
      "Regalash for maintenance & modification 6 October  - Giza 0.00\n",
      "M Auto Service 5th Settlement  - Cairo 0.00\n",
      "El Tarek Auto Repair Nasr City  - Cairo 2.88\n",
      "Auto Repair 6 October  - Giza 0.50\n",
      "مركز هاى تك لتكنولوجيا السيارات Maadi  - Cairo 0.00\n",
      "Auto Group for car Services Haram  - Giza 0.50\n",
      "San Kolta el shorouk city  - Cairo 2.75\n",
      "El Haggar Auto Service El mohandsen  - Giza 3.75\n",
      "El Mikaneeky - El Shorouk el shorouk city  - Cairo 2.33\n",
      "Hyundai Egypt - Ghabbour Auto Qatamia  - Cairo 5.00\n",
      "Fixology - misr elgdida Misr Elgdida  - Cairo 0.00\n",
      "El Mikaneeky - Nasr City Nasr City  - Cairo 2.25\n",
      "El Mikaneeky - October 6 October  - Giza 2.60\n",
      "El Mikaneeky - Misr Elgedida Misr Elgdida  - Cairo 2.75\n",
      "El Mikaneeky - El Maadi Maadi  - Cairo 3.69\n",
      "El Mikaneeky - Smouha El-Mandara  - Alexandria 2.50\n",
      "El Mikaneeky - Portsaid Port Said  - Port Said 2.30\n",
      "Fixology - Qatamia Qatamia  - Cairo 0.00\n",
      "Fixology - Obour El  - Cairo 0.00\n",
      "Fixology - Gesr ElSuez Misr Elgdida  - Cairo 0.00\n",
      "Mazda Misr - GB Auto Qatamia  - Cairo 0.00\n",
      "Shell Authorized Retailer - El Gohary 5th Settlement  - Cairo 0.00\n",
      "Shell Authorized Retailer - 3A 6 October  - Giza 0.00\n",
      "Shell Authorized Retailer - Al Araby Misr Elgdida  - Cairo 0.00\n",
      "Shell Authorized Retailer - Al Andalus Haram  - Giza 3.75\n",
      "Shell Authorized Retailer - Al Alameya El  - Cairo 0.00\n",
      "Shell Authorized Retailer - Al Alameya El  - Cairo 0.00\n",
      "Shell Authorized Retailer - Al Dawleya Nasr City  - Cairo 0.00\n",
      "Shell Authorized Retailer - Al Behwashy El mohandsen  - Giza 0.00\n",
      "Shell Authorized Retailer - Al Handasy 5th Settlement  - Cairo 0.00\n",
      "Shell Authorized Retailer - Al Halafawy El mohandsen  - Giza 0.00\n",
      "Shell Authorized Retailer - Al Halafawy El-Haram Haram  - Giza 0.00\n",
      "Shell Authorized Retailer - Al Salam Misr Elgdida  - Cairo 0.00\n",
      "Shell Authorized Retailer - Al Sagheer elsalam city  - Cairo 0.00\n",
      "Shell Authorized Retailer - Al Sheemy Maadi  - Cairo 0.00\n",
      "Shell Authorized Retailer - Auto Speed Haram  - Giza 0.00\n",
      "Shell Authorized Retailer - Auto Engineering Haram  - Giza 0.00\n",
      "Shell Authorized Retailer - Brand Nasr City  - Cairo 0.00\n",
      "Shell Authorized Retailer - Bolla Misr Elgdida  - Cairo 0.00\n",
      "Shell Authorized Retailer - Banzeen Maadi  - Cairo 0.00\n",
      "Shell Authorized Retailer - Awlad Alaam El mohandsen  - Giza 0.00\n",
      "Shell Authorized Retailer - Classic Elmaadi Maadi  - Cairo 1.50\n",
      "Shell Authorized Retailer - Classic Sheraton Misr Elgdida  - Cairo 0.00\n",
      "Shell Authorized Retailer - Classic Nasr City Nasr City  - Cairo 0.00\n",
      "Shell Authorized Retailer - Car Stop 5th Settlement  - Cairo 0.00\n",
      "Shell Authorized Retailer - Fuel 6 October  - Giza 0.00\n",
      "Shell Authorized Retailer - Fast Lane Maadi  - Cairo 0.00\n",
      "Shell Authorized Retailer - Express Haram  - Giza 0.00\n",
      "Shell Authorized Retailer - Exclusive Nasr City  - Cairo 0.00\n",
      "Shell Authorized Retailer - Elite Haram  - Giza 0.00\n",
      "Shell Authorized Retailer - Integra 6 October  - Giza 0.00\n",
      "Shell Authorized Retailer - Golden Four Plus 6 October  - Giza 0.00\n",
      "Shell Authorized Retailer - Golden Care Nasr City  - Cairo 0.00\n",
      "Shell Authorized Retailer - Mansour BMW Misr Elgdida  - Cairo 0.00\n",
      "Shell Authorized Retailer - Mansour Nasr City  - Cairo 0.00\n",
      "Shell Authorized Retailer - Malik Maadi  - Cairo 0.00\n",
      "Shell Authorized Retailer - Makka Heliopolis Misr Elgdida  - Cairo 0.00\n",
      "Shell Authorized Retailer - Location 6 October  - Giza 0.00\n",
      "Shell Authorized Retailer - Life Lines Mokatam  - Cairo 0.00\n",
      "Shell Authorized Retailer - Kamel Salama Maadi  - Cairo 0.00\n",
      "Shell Authorized Retailer - Motoren Misr Elgdida  - Cairo 0.00\n",
      "Shell Authorized Retailer - Qaoud Haram  - Giza 0.00\n",
      "Shell Authorized Retailer - Speed One Haram  - Giza 0.00\n",
      "Shell Authorized Retailer - Service Point Elmanial المنيل  - Cairo 0.00\n",
      "Shell Authorized Retailer - Zidani Misr Elgdida  - Cairo 0.00\n",
      "Shell Authorized Retailer - Zidan elsalam city  - Cairo 0.00\n",
      "Shell Authorized Retailer - Vroom El-Rehab  - Cairo 4.50\n",
      "Shell Authorized Retailer - Tires Nasr City  - Cairo 0.00\n",
      "Shell Authorized Retailer - The Future el shorouk city  - Cairo 0.00\n",
      "Shell Authorized Retailer - Makka 3 Plus El mohandsen  - Giza 0.50\n",
      "Shell Authorized Retailer - Al Malek el shorouk city  - Cairo 0.00\n",
      "Shell Authorized Retailer - Mohamed El Deeb elsalam city  - Cairo 0.00\n",
      "Shell Authorized Retailer - Nile Trading Company Misr Elgdida  - Cairo 0.00\n",
      "Shell Authorized Retailer - Golden Service Nasr City  - Cairo 4.50\n",
      "Shell Authorized Retailer - Fit & Fix 6 October 6 October  - Giza 0.00\n",
      "Shell Authorized Retailer - Fit & Fix ElManyal Elmanial المنيل  - Cairo 5.00\n",
      "Shell Authorized Retailer - Fit & Fix ElAgouza El mohandsen  - Giza 0.00\n",
      "Shell Authorized Retailer - Makaa Heliopolis Misr Elgdida  - Cairo 0.00\n",
      "Shell Authorized Retailer - Moasast al sadiq Haram  - Giza 0.00\n",
      "Shell Authorized Retailer - El Abd Haram  - Giza 0.00\n",
      "Shell Authorized Retailer - MG 5th Settlement  - Cairo 0.00\n",
      "Shell Authorized Retailer - Tamco 6 October  - Giza 0.00\n",
      "Shell Authorized Retailer - FIX HUB Khamayel 2 6 October  - Giza 0.00\n",
      "Shell Authorized Retailer - FIX HUB Suez Road El  - Cairo 2.50\n",
      "Shell Authorized Retailer - Perfect El-Rehab  - Cairo 0.00\n",
      "Shell Authorized Retailer - Arabeety Misr Elgdida  - Cairo 0.00\n",
      "Shell Authorized Retailer - BK Ring Road  - Alexandria 0.00\n",
      "Shell Authorized Retailer - Abou Ali محطة الرمل  - Alexandria 0.00\n",
      "Shell Authorized Retailer - CAC El-Amreya  - Alexandria 0.00\n",
      "Shell Authorized Retailer - Al Geyoushi محطة الرمل  - Alexandria 0.00\n",
      "Shell Authorized Retailer - Al Kuwaiti El-Amreya  - Alexandria 0.00\n",
      "Shell Authorized Retailer - Awlad Shoeib Ring Road  - Alexandria 0.00\n",
      "Shell Authorized Retailer - Al Sheikh Burj Elarab  - Alexandria 0.00\n",
      "Shell Authorized Retailer - Habaga Ring Road  - Alexandria 0.00\n",
      "Shell Authorized Retailer - Alex Automotive Ring Road  - Alexandria 0.00\n",
      "Shell Authorized Retailer - Al Ostaz محطة الرمل  - Alexandria 0.00\n",
      "Shell Authorized Retailer - Fit & Fix Ring Road  - Alexandria 0.00\n",
      "Shell Authorized Retailer - Speed Car El-Mandara  - Alexandria 0.00\n",
      "Shell Authorized Retailer - Auto Malek El-Mandara  - Alexandria 0.00\n",
      "Shell Authorized Retailer - Al Sanhoury El-Mandara  - Alexandria 0.00\n",
      "Shell Authorized Retailer - Al Marwa El-Mandara  - Alexandria 0.00\n",
      "Shell Authorized Retailer - Al Shaer محطة الرمل  - Alexandria 0.00\n",
      "Shell Authorized Retailer - Wesh Cylinder Burj Elarab  - Alexandria 0.00\n",
      "Shell Authorized Retailer - Fit & Fix محطة الرمل  - Alexandria 0.00\n",
      "Shell Authorized Retailer - Grand Auto Ring Road  - Alexandria 0.00\n",
      "Shell Authorized Retailer - Mokka El-Mandara  - Alexandria 0.00\n",
      "Shell Authorized Retailer - CAC El-Mandara  - Alexandria 0.00\n",
      "Shell Authorized Retailer - On Stop Burj Elarab  - Alexandria 0.00\n",
      "Shell Authorized Retailer - Al Sahel Burj Elarab  - Alexandria 0.00\n",
      "Shell Authorized Retailer - Al Garage محطة الرمل  - Alexandria 0.00\n",
      "Shell Authorized Retailer - Sherif Oil محطة الرمل  - Alexandria 0.00\n",
      "Shell Authorized Retailer - Motorex Aswan  - Aswan 2.00\n",
      "Shell Authorized Retailer - Awlad Abou Ismail Aswan  - Aswan 0.00\n",
      "Shell Authorized Retailer - Awlad Abou Kert Aswan  - Aswan 2.50\n",
      "Shell Authorized Retailer - Al Aqrab Bani Suif  - Bani Sweif 4.75\n",
      "Shell Authorized Retailer - Al Zidany Bani Suif  - Bani Sweif 5.00\n",
      "Shell Authorized Retailer - Oil Drops Bani Suif  - Bani Sweif 0.00\n",
      "Shell Authorized Retailer - Car Service Bani Suef Bani Suif  - Bani Sweif 0.00\n",
      "Shell Authorized Retailer - Awlad Taha Youssef Bani Suif  - Bani Sweif 0.00\n",
      "Shell Authorized Retailer - Al Zidany Bani Suif  - Bani Sweif 0.00\n",
      "Shell Authorized Retailer - Al Wady Bani Suif  - Bani Sweif 0.00\n",
      "Shell Authorized Retailer - Al Zayed Bani Suif  - Bani Sweif 0.00\n",
      "Shell Authorized Retailer - Al Rayan Bani Suif  - Bani Sweif 0.00\n",
      "Shell Authorized Retailer - Al Nisr Bani Suif  - Bani Sweif 0.00\n",
      "Shell Authorized Retailer - Maher Al Amir Asyut  - Asyut 0.00\n",
      "Shell Authorized Retailer - Al Ssayir Shobra El-kheima  - Kalioubia 0.00\n",
      "Shell Authorized Retailer - Car Clinic Asyut  - Asyut 0.00\n",
      "Shell Authorized Retailer - Tareek Al Salama Asyut  - Asyut 0.00\n",
      "Shell Authorized Retailer - United El  - Cairo 0.00\n",
      "Shell Authorized Retailer - We Care Banha  - Kalioubia 3.50\n",
      "Shell Authorized Retailer - Speed Car Asyut  - Asyut 0.00\n",
      "Shell Authorized Retailer - Speed Service Shobra El-kheima  - Kalioubia 0.00\n",
      "Shell Authorized Retailer - Prime Asyut  - Asyut 0.00\n",
      "Shell Authorized Retailer - Moto Care Asyut  - Asyut 0.00\n",
      "Fixology - Abou Rawash 6 October  - Giza 0.00\n",
      "Fixology - ElAamrya El-Amreya  - Alexandria 0.00\n",
      "Fixology - Qalyub Qalyub  - Kalioubia 0.00\n",
      "Fixology - Mazda Plaza 6 October  - Giza 0.00\n",
      "Fixology - Margham Burj Elarab  - Alexandria 0.00\n",
      "Wahdan - Agouza El mohandsen  - Giza 0.00\n",
      "Wahdan - Masr Elgedida Misr Elgdida  - Cairo 0.00\n",
      "Wahdan - 6 October 6 October  - Giza 0.00\n",
      "Wahdan - Agouza 2 El mohandsen  - Giza 0.00\n",
      "Shell Authorized Retailer - Noor Ayyat  - Giza 0.00\n",
      "Shell Authorized Retailer - Car Bar Elmansoura  - Dakahlia 5.00\n",
      "Shell Authorized Retailer - Car Bar Elmansoura  - Dakahlia 0.00\n",
      "Shell Authorized Retailer - Abnaa Abdel Mottaleb Elmansoura  - Dakahlia 0.00\n",
      "Shell Authorized Retailer - Al Gemeie El Manzala  - Dakahlia 5.00\n",
      "Shell Authorized Retailer - Hamada Saleh Meet Ghamr  - Dakahlia 0.00\n",
      "Shell Authorized Retailer - One Stop Belkas  - Dakahlia 0.00\n",
      "Shell Authorized Retailer - Quality Belbeis  - Sharkia 0.00\n",
      "Shell Authorized Retailer - Rakha El Zarka  - Damietta 0.00\n",
      "Shell Authorized Retailer - Roweiha Damanhoor  - Beheira 0.00\n",
      "Shell Authorized Retailer - Mido Bani Suif  - Bani Sweif 0.50\n",
      "Shell Authorized Retailer - Mohamed Abdallah Zagazig  - Sharkia 2.75\n",
      "Shell Authorized Retailer - Mohamed Ali Suez  - Suez 5.00\n",
      "Shell Authorized Retailer - Mohamed Awad El Alamein  - Matrouh 0.00\n",
      "Shell Authorized Retailer - Koba Siwa  - Matrouh 0.00\n",
      "Shell Authorized Retailer - Al Asly Fayoum  - Fayoum 0.00\n",
      "Shell Authorized Retailer - Al Israa Monufia  - Monufia 0.00\n",
      "Shell Authorized Retailer - El Dawlya Qena  - Qena 5.00\n",
      "Shell Authorized Retailer - Star Car Qena  - Qena 0.00\n",
      "Shell Authorized Retailer - Number 1 Qena  - Qena 0.00\n",
      "Shell Authorized Retailer - Italian Qena  - Qena 0.00\n",
      "Shell Authorized Retailer - Al Fayez Suez  - Suez 0.00\n",
      "Shell Authorized Retailer - Al Hanouny Zagazig  - Sharkia 0.00\n",
      "Shell Authorized Retailer - Extra 10th Of Ramadan  - Sharkia 3.50\n",
      "Shell Authorized Retailer - Extra Zagazig Zagazig  - Sharkia 0.00\n",
      "Shell Authorized Retailer - X Center Zagazig  - Sharkia 2.00\n",
      "Shell Authorized Retailer - Sherif Fix Zagazig  - Sharkia 0.00\n",
      "Shell Authorized Retailer - Al Masreya 10th Of Ramadan  - Sharkia 0.00\n",
      "Shell Authorized Retailer - Zeyoot Moharekat Al Diesel Zagazig  - Sharkia 0.00\n",
      "Shell Authorized Retailer - Abnaa Hedwa Zagazig  - Sharkia 0.00\n",
      "Shell Authorized Retailer - Nofal Zagazig  - Sharkia 0.00\n",
      "Shell Authorized Retailer - Al Sheikh Zagazig  - Sharkia 0.00\n",
      "Shell Authorized Retailer - Al Rashidy Zagazig  - Sharkia 0.00\n",
      "Shell Authorized Retailer - Al Saadouni Belbeis  - Sharkia 0.00\n",
      "Shell Authorized Retailer - Al Eman Zagazig  - Sharkia 0.00\n",
      "Shell Authorized Retailer - Al Alameya Zagazig Zagazig  - Sharkia 0.00\n",
      "Shell Authorized Retailer - Al Azouny Zagazig  - Sharkia 0.00\n",
      "Shell Authorized Retailer - Abou Habboush Belbeis  - Sharkia 0.00\n",
      "Shell Authorized Retailer - Abou Hamza Belbeis  - Sharkia 0.00\n",
      "Shell Authorized Retailer - Al Amana Assiut Asyut  - Asyut 0.00\n",
      "Shell Authorized Retailer - House Car Asyut  - Asyut 0.00\n",
      "Shell Authorized Retailer - Make Up Asyut  - Asyut 0.00\n",
      "Shell Authorized Retailer - Al Aqsa Asyut  - Asyut 0.00\n",
      "Shell Authorized Retailer - Al Waleed Asyut  - Asyut 0.00\n",
      "Shell Authorized Retailer - Faster Oil Asyut  - Asyut 0.00\n",
      "Shell Authorized Retailer - More Details Elmenia  - Menia 0.00\n",
      "Shell Authorized Retailer - Helwan Elmenia  - Menia 0.00\n",
      "Shell Authorized Retailer - Car Tech Elmenia  - Menia 0.00\n",
      "Shell Authorized Retailer - Awlad Al Hag Taha Elmenia  - Menia 0.00\n",
      "Shell Authorized Retailer - Auto Car Elmenia  - Menia 0.00\n",
      "Shell Authorized Retailer - Awlad Dahy Elmenia  - Menia 0.00\n",
      "Shell Authorized Retailer - Al Wakeel Elmenia  - Menia 0.00\n",
      "Shell Authorized Retailer - Al Mostafa Elmenia  - Menia 0.00\n",
      "Shell Authorized Retailer - Al Gineidy Elmenia  - Menia 0.00\n",
      "Shell Authorized Retailer - Makka Sheben Elkanater Qalyub  - Kalioubia 0.00\n",
      "Shell Authorized Retailer - Makka Banha Banha  - Kalioubia 0.50\n",
      "Shell Authorized Retailer - Classic El  - Cairo 0.00\n",
      "Shell Authorized Retailer - Al Maged Banha  - Kalioubia 0.00\n",
      "Shell Authorized Retailer - Al Emad Qalyub  - Kalioubia 0.00\n",
      "Shell Authorized Retailer - Al Ganoub New Valley  - EL Wadi El Gedid 0.00\n",
      "Shell Authorized Retailer - Al Wady New Valley  - EL Wadi El Gedid 0.00\n",
      "Shell Authorized Retailer -  Mohamed Gamal Damnhor  - Beheira 0.50\n",
      "Shell Authorized Retailer - Selim Damietta  - Damietta 0.50\n",
      "Shell Authorized Retailer - Smart Car Damanhoor  - Beheira 0.00\n",
      "Shell Authorized Retailer - Omran Burj Elarab  - Alexandria 0.00\n",
      "Shell Authorized Retailer - Grand Oil Burj Elarab  - Alexandria 0.00\n",
      "Shell Authorized Retailer - El Salmaya Suez  - Suez 0.00\n",
      "Shell Authorized Retailer - Mohamed Ramadan Ayyat  - Giza 0.00\n",
      "Shell Authorized Retailer - Strong Marsa Matrouh  - Matrouh 0.00\n",
      "Shell Authorized Retailer - Super Car Luxor  - Luxor 1.00\n",
      "Shell Authorized Retailer - Ultra Service Kafr El Sheikh  - Kafr El Sheikh 0.00\n",
      "Shell Authorized Retailer - Seoudi Kafr El Sheikh  - Kafr El Sheikh 0.00\n",
      "Shell Authorized Retailer - Splash Elnasr Rad Sea  - Red Sea 0.00\n",
      "Shell Authorized Retailer - Splash Rad Sea  - Red Sea 0.00\n",
      "Shell Authorized Retailer - On Way Tanta  - Gharbia 4.50\n",
      "Shell Authorized Retailer - Premier Ismailia  - Ismailia 5.00\n",
      "Shell Authorized Retailer - Ismailia Car Care Ismailia  - Ismailia 0.00\n",
      "Shell Authorized Retailer - Makka Mnoufia Monufia  - Monufia 0.00\n",
      "Shell Authorized Retailer - Golden Car Turbo Sohag  - Sohag 0.00\n",
      "Shell Authorized Retailer - Auto Oil Alexandria Burj Elarab  - Alexandria 0.00\n",
      "Shell Authorized Retailer - Hasabo El-Mahala  - Gharbia 0.00\n",
      "Shell Authorized Retailer - Hassouba Fayoum  - Fayoum 4.00\n",
      "Shell Authorized Retailer - Hegazy Ismailia  - Ismailia 0.00\n",
      "Shell Authorized Retailer - Helwan ElMinya Elmenia  - Menia 0.00\n",
      "Shell Authorized Retailer - Highway Monufia  - Monufia 0.00\n",
      "Shell Authorized Retailer - Ingaz Tanta  - Gharbia 0.00\n",
      "Shell Authorized Retailer - Delta Monufia  - Monufia 0.50\n",
      "Shell Authorized Retailer - Doos Benzene Tanta  - Gharbia 1.00\n",
      "Shell Authorized Retailer - Engineer Tanta  - Gharbia 0.00\n",
      "Shell Authorized Retailer - Express Rasheed  - Beheira 0.00\n",
      "Shell Authorized Retailer - Gerga Sohag  - Sohag 0.00\n",
      "Shell Authorized Retailer - Ghoneim Mit Ghamr  - Dakahlia 0.50\n",
      "Shell Authorized Retailer - Go Oil Marsa Matrouh  - Matrouh 0.00\n",
      "Shell Authorized Retailer - Golden Marsa Matrouh  - Matrouh 0.00\n",
      "Shell Authorized Retailer - Golden Car Diesel Sohag  - Sohag 0.00\n",
      "Shell Authorized Retailer - Car Service ElBehira Damnhor  - Beheira 0.00\n",
      "Shell Authorized Retailer - Car Service Sohag Sohag  - Sohag 0.00\n",
      "Shell Authorized Retailer - Car Service Ismailia Ismailia  - Ismailia 0.00\n",
      "Shell Authorized Retailer - Car Surgeons Monufia  - Monufia 0.00\n",
      "Shell Authorized Retailer - City Europe South Sinai  - South Sinai 0.00\n",
      "Shell Authorized Retailer - Dawaran Al Estad Damnhor  - Beheira 0.00\n",
      "Shell Authorized Retailer - Awlad Desheisha Monufia  - Monufia 0.00\n",
      "Shell Authorized Retailer - Awlad Eshta Damietta  - Damietta 0.00\n",
      "Shell Authorized Retailer - Awlad George Ayyat  - Giza 0.00\n",
      "Shell Authorized Retailer - Awlad Kassab Damnhor  - Beheira 0.00\n",
      "Shell Authorized Retailer - Awlad Keshk Monufia  - Monufia 0.00\n",
      "Shell Authorized Retailer - Awlad Ouf Damnhor  - Beheira 0.00\n",
      "Shell Authorized Retailer - Beebo Monufia  - Monufia 0.00\n",
      "Shell Authorized Retailer - Belal Rasheed  - Beheira 0.00\n",
      "Shell Authorized Retailer - Arabeety Damnhor  - Beheira 0.00\n",
      "Shell Authorized Retailer - Auto Car Qena  - Qena 0.00\n",
      "Shell Authorized Retailer - Auto Power Damnhor  - Beheira 0.00\n",
      "Shell Authorized Retailer - Al Sebaie Kafr El Sheikh  - Kafr El Sheikh 0.00\n",
      "Shell Authorized Retailer - Al Shayeb Rad Sea  - Red Sea 0.00\n",
      "Shell Authorized Retailer - Al Wagdy Ismailia  - Ismailia 0.00\n",
      "Shell Authorized Retailer - Al Wakeel Qena  - Qena 0.00\n",
      "Shell Authorized Retailer - Al Zareef Kafr El Sheikh  - Kafr El Sheikh 0.00\n",
      "Shell Authorized Retailer - Al Nokhba Damanhoor  - Beheira 0.00\n",
      "Shell Authorized Retailer - Al Nour Damnhor  - Beheira 0.00\n",
      "Shell Authorized Retailer - Al Orouba Damnhor  - Beheira 0.00\n",
      "Shell Authorized Retailer - Al Ostaz Qena  - Qena 0.00\n",
      "Shell Authorized Retailer - Al Qorashi Rad Sea  - Red Sea 0.00\n",
      "Shell Authorized Retailer - Al Riyadh Kafr El Sheikh  - Kafr El Sheikh 0.00\n",
      "Shell Authorized Retailer - Al Riyadh Rimula Kafr El Sheikh  - Kafr El Sheikh 0.00\n",
      "Shell Authorized Retailer - Al Maragha Sohag  - Sohag 0.00\n",
      "Shell Authorized Retailer - Al Masreya Elbehira Damnhor  - Beheira 0.00\n",
      "Shell Authorized Retailer - Al Masreya South Sinai South Sinai  - South Sinai 0.00\n",
      "Shell Authorized Retailer - Al Menshawy Kafr El Sheikh  - Kafr El Sheikh 0.00\n",
      "Shell Authorized Retailer - Al Mohandes Qena Qena  - Qena 0.00\n",
      "Shell Authorized Retailer - Al Mohandes Damietta Damietta  - Damietta 0.00\n",
      "Shell Authorized Retailer - Al Mohandes Adel Damnhor  - Beheira 0.00\n",
      "Shell Authorized Retailer - Al Mozdalefa Qena  - Qena 0.00\n",
      "Shell Authorized Retailer - Al Gemeily Qena  - Qena 0.00\n",
      "Shell Authorized Retailer - Al Ghabary Shobra El-kheima  - Kalioubia 0.00\n",
      "Shell Authorized Retailer - Al Iskandarani Damnhor  - Beheira 0.00\n",
      "Shell Authorized Retailer - Al Israa Tanta Tanta  - Gharbia 0.00\n",
      "Shell Authorized Retailer - Al Karamawy Al Qussair Rad Sea  - Red Sea 0.00\n",
      "Shell Authorized Retailer - Al Karamawy Marsa Alam Rad Sea  - Red Sea 0.00\n",
      "Shell Authorized Retailer - Al Madina Rad Sea  - Red Sea 0.00\n",
      "Shell Authorized Retailer - Al Mahaba Rad Sea  - Red Sea 0.00\n",
      "Shell Authorized Retailer - Al Beshlawy Damnhor  - Beheira 0.00\n",
      "Shell Authorized Retailer - Al Damaty Damnhor  - Beheira 0.00\n",
      "Shell Authorized Retailer - Al Dawly Damnhor  - Beheira 0.00\n",
      "Shell Authorized Retailer - Al Fatimeya Damnhor  - Beheira 0.00\n",
      "Shell Authorized Retailer - Abou Nigeela Damnhor  - Beheira 0.00\n",
      "Shell Authorized Retailer - Abou Sedeirah Rad Sea  - Red Sea 0.00\n",
      "Shell Authorized Retailer - Abou Shahla Damnhor  - Beheira 0.00\n",
      "Shell Authorized Retailer - Al Amana Damnhor  - Beheira 0.00\n",
      "Shell Authorized Retailer - Al Araby Helal Damietta  - Damietta 0.00\n",
      "Shell Authorized Retailer - Al Ayoubi Fayoum  - Fayoum 0.00\n",
      "Shell Authorized Retailer - Al Azab Damietta  - Damietta 0.00\n",
      "Shell Authorized Retailer - 3M Port Said  - Port Said 0.00\n",
      "Shell Authorized Retailer - Aal Habib Damnhor  - Beheira 0.00\n",
      "Shell Authorized Retailer - Aal Haggag Luxor  - Luxor 0.00\n",
      "Shell Authorized Retailer - Aal Hezeima Damnhor  - Beheira 0.00\n",
      "Shell Authorized Retailer - Abou Hamed Damnhor  - Beheira 0.00\n",
      "Shell Authorized Retailer - Abou Hemeid Ismailia  - Ismailia 0.00\n",
      "Shell Authorized Retailer - Makka Nabaroo Elmansoura  - Dakahlia 0.00\n",
      "Shell Authorized Retailer - Sameh Sobhy Nasr City  - Cairo 0.00\n",
      "Shell Authorized Retailer - Al Qorashi 2 Rad Sea  - Red Sea 0.00\n",
      "Shell Authorized Retailer - Auto Oil Alexandria محطة الرمل  - Alexandria 0.00\n",
      "Abou Ghali Automotive El  - Cairo 5.00\n",
      "El Doctor Auto Parts Shop 10th Of Ramadan  - Sharkia 0.50\n",
      "Import Spare Parts Maadi  - Cairo 0.00\n",
      "Zahran Service Center Haram  - Giza 0.00\n",
      "Auto Drive Service Center Misr Elgdida  - Cairo 5.00\n",
      "Handler Auto Service Misr Elgdida  - Cairo 1.50\n",
      "Alabady Ford Service Center Misr Elgdida  - Cairo 0.50\n",
      "Al Mohataref Service Center Misr Elgdida  - Cairo 0.00\n",
      "Sky Auto Service Group Rad Sea  - Red Sea 2.50\n",
      "Extreme Car Service Center El-Rehab  - Cairo 0.00\n",
      "Germany Group Service Center Haram  - Giza 0.00\n",
      "Swedish Company for Spare Parts Zagazig  - Sharkia 0.00\n",
      "German Style For Car Accessories El-Mandara  - Alexandria 0.00\n",
      "Al-Hamd Spare Parts Maadi  - Cairo 0.00\n",
      "VW Golf Castle elsalam city  - Cairo 0.00\n",
      "4 Ain German elsalam city  - Cairo 0.00\n",
      "Sharkawy For Car Customization Misr Elgdida  - Cairo 0.00\n",
      "Germany House For Car Parts Nasr City  - Cairo 0.00\n",
      "Makkah Company Misr Elgdida  - Cairo 0.00\n",
      "Mondo Cars محطة الرمل  - Alexandria 0.00\n",
      "Germany Exhaust Shop Mokatam  - Cairo 0.00\n",
      "Debek Golf Port Said  - Port Said 0.00\n",
      "Elkattan Auto Parts Ring Road  - Alexandria 0.00\n",
      "AUTO Vision Stores Nasr City  - Cairo 0.00\n",
      "El-Tawfek Auto Parts Maadi  - Cairo 0.00\n",
      "Technical Center For Germany Cars Misr Elgdida  - Cairo 0.00\n",
      "One Shot Auto Service Center El-Mandara  - Alexandria 0.00\n",
      "Al-Almany Spare Parts Damietta  - Damietta 0.00\n",
      "Saeed Ali Spare Parts Maadi  - Cairo 0.00\n",
      "Ceramic Hub Egypt Misr Elgdida  - Cairo 5.00\n",
      "Chloride Egypt - nasr city Nasr City  - Cairo 0.00\n",
      "United Car Maintenance Haram  - Giza 3.50\n",
      "Exclusive Car Service Center Nasr City  - Cairo 0.00\n",
      "Hamdy Arafa - Service Center El mohandsen  - Giza 0.00\n",
      "Mohsen slim Peugeot service center El mohandsen  - Giza 1.50\n",
      "Peugeot Original Service Center Nasr City  - Cairo 0.00\n",
      "VW Leaders Service Center Haram  - Giza 0.00\n",
      "Auto Service Center Maadi  - Cairo 0.00\n",
      "Service Now Automotive Car center Haram  - Giza 0.00\n",
      "Al Abyad Service Center Misr Elgdida  - Cairo 0.00\n",
      "Sho3'l tawkelat service center Haram  - Giza 2.75\n",
      "Top Auto Service Center Misr Elgdida  - Cairo 0.00\n",
      "Great Cars - Service Center Nasr City  - Cairo 0.00\n",
      "Leader Service Center Misr Elgdida  - Cairo 0.00\n",
      "Silver Arrows Mercedes-Benz Service Center Nasr City  - Cairo 0.00\n",
      "Diab Sons Center Misr Elgdida  - Cairo 0.00\n",
      "VolksMania Service Center Misr Elgdida  - Cairo 0.00\n",
      "ZEKO Service center Misr Elgdida  - Cairo 0.00\n",
      "Peco auto service center El  - Cairo 3.00\n",
      "FMS Car Service Center Haram  - Giza 0.00\n",
      "KEROS Car Service Center Misr Elgdida  - Cairo 0.00\n",
      "Wessam Ismail Renault Service Center Nasr City  - Cairo 0.00\n",
      "NAS Service Center Misr Elgdida  - Cairo 0.00\n",
      "MIKHA BMW Service Center Misr Elgdida  - Cairo 0.00\n",
      "El Mikaneeky - el sheikh zayed 6 October  - Giza 2.50\n",
      "Renault El Sharkawy - El October 6 October  - Giza 0.50\n",
      "BMW Station -Rehab city El-Rehab  - Cairo 0.00\n",
      "BMW Station -Madinaty city el shorouk city  - Cairo 2.50\n",
      "Tire Land service Misr Elgdida  - Cairo 0.00\n",
      "Elite Car 6 October  - Giza 0.00\n"
     ]
    }
   ],
   "source": [
    "import csv\n",
    "\n",
    "with open(\"service_centers.csv\", \"w\", newline=\"\", encoding=\"utf-8-sig\") as file:\n",
    "    writer = csv.writer(file)\n",
    "    writer.writerow(['service_center_name', 'location', 'rate'])\n",
    "\n",
    "    for i in range(1, 53):\n",
    "        url = f\"https://tawfiqia.com/en/service-center/search?page={i}\"\n",
    "        response = requests.get(url)\n",
    "        htmlwebsite = bs(response.text, 'html.parser')\n",
    "        service_centers = htmlwebsite.find_all(\"div\" , class_ = \"row service-center-row color-gray-new-30\")\n",
    "\n",
    "\n",
    "        for service_center in service_centers:\n",
    "          service_center_name = service_center.find(\"a\", class_=\"cat-title service-center-title\")\n",
    "          location = service_center.find(\"span\" , class_=\"service-center-tag\")\n",
    "          rate = service_center.find(\"span\", class_=\"service-center-rate\")\n",
    "\n",
    "          service_center_name = service_center_name.text.strip() if service_center_name else \"N/A\"\n",
    "          location = location.text.strip() if location else \"N/A\"\n",
    "          rate = rate.text.strip() if rate else \"N/A\"\n",
    "\n",
    "          writer.writerow([service_center_name, location, rate])\n",
    "          print(service_center_name, location, rate)\n",
    "file.close()"
   ]
  },
  {
   "cell_type": "code",
   "execution_count": null,
   "metadata": {},
   "outputs": [],
   "source": []
  },
  {
   "cell_type": "code",
   "execution_count": 1,
   "metadata": {
    "id": "Ry7MgvSaiCni"
   },
   "outputs": [],
   "source": [
    "import pandas as pd"
   ]
  },
  {
   "cell_type": "code",
   "execution_count": 2,
   "metadata": {
    "colab": {
     "base_uri": "https://localhost:8080/",
     "height": 423
    },
    "id": "VmjKrksaixm3",
    "outputId": "a8c7e4da-df4d-4486-bd6c-c354f680c98a"
   },
   "outputs": [
    {
     "data": {
      "text/html": [
       "<div>\n",
       "<style scoped>\n",
       "    .dataframe tbody tr th:only-of-type {\n",
       "        vertical-align: middle;\n",
       "    }\n",
       "\n",
       "    .dataframe tbody tr th {\n",
       "        vertical-align: top;\n",
       "    }\n",
       "\n",
       "    .dataframe thead th {\n",
       "        text-align: right;\n",
       "    }\n",
       "</style>\n",
       "<table border=\"1\" class=\"dataframe\">\n",
       "  <thead>\n",
       "    <tr style=\"text-align: right;\">\n",
       "      <th></th>\n",
       "      <th>service_center_name</th>\n",
       "      <th>location</th>\n",
       "      <th>rate</th>\n",
       "      <th>latitude</th>\n",
       "      <th>longitude</th>\n",
       "    </tr>\n",
       "  </thead>\n",
       "  <tbody>\n",
       "    <tr>\n",
       "      <th>0</th>\n",
       "      <td>El Mikaneeky - ElNozha</td>\n",
       "      <td>Nasr City  - Cairo</td>\n",
       "      <td>2.63</td>\n",
       "      <td>30.052118</td>\n",
       "      <td>31.342205</td>\n",
       "    </tr>\n",
       "    <tr>\n",
       "      <th>1</th>\n",
       "      <td>IN.MOTORS</td>\n",
       "      <td>6 October  - Giza</td>\n",
       "      <td>3.10</td>\n",
       "      <td>29.963099</td>\n",
       "      <td>30.954899</td>\n",
       "    </tr>\n",
       "    <tr>\n",
       "      <th>2</th>\n",
       "      <td>fix lane</td>\n",
       "      <td>6 October  - Giza</td>\n",
       "      <td>4.19</td>\n",
       "      <td>29.963099</td>\n",
       "      <td>30.954899</td>\n",
       "    </tr>\n",
       "    <tr>\n",
       "      <th>3</th>\n",
       "      <td>7 Cylinder</td>\n",
       "      <td>6 October  - Giza</td>\n",
       "      <td>4.59</td>\n",
       "      <td>29.963099</td>\n",
       "      <td>30.954899</td>\n",
       "    </tr>\n",
       "    <tr>\n",
       "      <th>4</th>\n",
       "      <td>Auto zone</td>\n",
       "      <td>Mokatam  - Cairo</td>\n",
       "      <td>3.67</td>\n",
       "      <td>NaN</td>\n",
       "      <td>NaN</td>\n",
       "    </tr>\n",
       "    <tr>\n",
       "      <th>...</th>\n",
       "      <td>...</td>\n",
       "      <td>...</td>\n",
       "      <td>...</td>\n",
       "      <td>...</td>\n",
       "      <td>...</td>\n",
       "    </tr>\n",
       "    <tr>\n",
       "      <th>510</th>\n",
       "      <td>Renault El Sharkawy - El October</td>\n",
       "      <td>6 October  - Giza</td>\n",
       "      <td>0.50</td>\n",
       "      <td>29.963099</td>\n",
       "      <td>30.954899</td>\n",
       "    </tr>\n",
       "    <tr>\n",
       "      <th>511</th>\n",
       "      <td>BMW Station -Rehab city</td>\n",
       "      <td>El-Rehab  - Cairo</td>\n",
       "      <td>0.00</td>\n",
       "      <td>30.063584</td>\n",
       "      <td>31.488994</td>\n",
       "    </tr>\n",
       "    <tr>\n",
       "      <th>512</th>\n",
       "      <td>BMW Station -Madinaty city</td>\n",
       "      <td>el shorouk city  - Cairo</td>\n",
       "      <td>2.50</td>\n",
       "      <td>30.149151</td>\n",
       "      <td>31.629195</td>\n",
       "    </tr>\n",
       "    <tr>\n",
       "      <th>513</th>\n",
       "      <td>Tire Land service</td>\n",
       "      <td>Misr Elgdida  - Cairo</td>\n",
       "      <td>0.00</td>\n",
       "      <td>NaN</td>\n",
       "      <td>NaN</td>\n",
       "    </tr>\n",
       "    <tr>\n",
       "      <th>514</th>\n",
       "      <td>Elite Car</td>\n",
       "      <td>6 October  - Giza</td>\n",
       "      <td>0.00</td>\n",
       "      <td>29.963099</td>\n",
       "      <td>30.954899</td>\n",
       "    </tr>\n",
       "  </tbody>\n",
       "</table>\n",
       "<p>515 rows × 5 columns</p>\n",
       "</div>"
      ],
      "text/plain": [
       "                  service_center_name                  location  rate  \\\n",
       "0              El Mikaneeky - ElNozha        Nasr City  - Cairo  2.63   \n",
       "1                           IN.MOTORS         6 October  - Giza  3.10   \n",
       "2                            fix lane         6 October  - Giza  4.19   \n",
       "3                          7 Cylinder         6 October  - Giza  4.59   \n",
       "4                           Auto zone          Mokatam  - Cairo  3.67   \n",
       "..                                ...                       ...   ...   \n",
       "510  Renault El Sharkawy - El October         6 October  - Giza  0.50   \n",
       "511           BMW Station -Rehab city         El-Rehab  - Cairo  0.00   \n",
       "512        BMW Station -Madinaty city  el shorouk city  - Cairo  2.50   \n",
       "513                 Tire Land service     Misr Elgdida  - Cairo  0.00   \n",
       "514                         Elite Car         6 October  - Giza  0.00   \n",
       "\n",
       "      latitude  longitude  \n",
       "0    30.052118  31.342205  \n",
       "1    29.963099  30.954899  \n",
       "2    29.963099  30.954899  \n",
       "3    29.963099  30.954899  \n",
       "4          NaN        NaN  \n",
       "..         ...        ...  \n",
       "510  29.963099  30.954899  \n",
       "511  30.063584  31.488994  \n",
       "512  30.149151  31.629195  \n",
       "513        NaN        NaN  \n",
       "514  29.963099  30.954899  \n",
       "\n",
       "[515 rows x 5 columns]"
      ]
     },
     "execution_count": 2,
     "metadata": {},
     "output_type": "execute_result"
    }
   ],
   "source": [
    "df = pd.read_csv('service_centers.csv')\n",
    "df"
   ]
  },
  {
   "cell_type": "code",
   "execution_count": 3,
   "metadata": {
    "colab": {
     "base_uri": "https://localhost:8080/"
    },
    "id": "j4RLj5XA-M9G",
    "outputId": "92fa2047-3be9-448d-d6a6-b7c187a83817"
   },
   "outputs": [
    {
     "name": "stdout",
     "output_type": "stream",
     "text": [
      "<class 'pandas.core.frame.DataFrame'>\n",
      "RangeIndex: 515 entries, 0 to 514\n",
      "Data columns (total 5 columns):\n",
      " #   Column               Non-Null Count  Dtype  \n",
      "---  ------               --------------  -----  \n",
      " 0   service_center_name  515 non-null    object \n",
      " 1   location             515 non-null    object \n",
      " 2   rate                 515 non-null    float64\n",
      " 3   latitude             315 non-null    float64\n",
      " 4   longitude            315 non-null    float64\n",
      "dtypes: float64(3), object(2)\n",
      "memory usage: 20.2+ KB\n"
     ]
    }
   ],
   "source": [
    "df.info()"
   ]
  },
  {
   "cell_type": "code",
   "execution_count": 4,
   "metadata": {
    "colab": {
     "base_uri": "https://localhost:8080/",
     "height": 178
    },
    "id": "RniHaVSU-SOI",
    "outputId": "b5e1f78a-1f68-433d-b5e8-d520b15975d4"
   },
   "outputs": [
    {
     "data": {
      "text/plain": [
       "service_center_name      0\n",
       "location                 0\n",
       "rate                     0\n",
       "latitude               200\n",
       "longitude              200\n",
       "dtype: int64"
      ]
     },
     "execution_count": 4,
     "metadata": {},
     "output_type": "execute_result"
    }
   ],
   "source": [
    "df.isna().sum()"
   ]
  },
  {
   "cell_type": "code",
   "execution_count": 5,
   "metadata": {
    "colab": {
     "base_uri": "https://localhost:8080/"
    },
    "id": "ONg-5O4umj8p",
    "outputId": "3e6d81e1-4c37-4fc4-d6e5-e879b189ce62"
   },
   "outputs": [
    {
     "data": {
      "text/plain": [
       "59"
      ]
     },
     "execution_count": 5,
     "metadata": {},
     "output_type": "execute_result"
    }
   ],
   "source": [
    "df['location'].nunique()"
   ]
  },
  {
   "cell_type": "code",
   "execution_count": null,
   "metadata": {
    "id": "iUpP3MwTIO0s"
   },
   "outputs": [],
   "source": []
  },
  {
   "cell_type": "code",
   "execution_count": 6,
   "metadata": {
    "colab": {
     "base_uri": "https://localhost:8080/"
    },
    "id": "9onVUZWjtfp-",
    "outputId": "fec6438d-c5a5-4da6-fad5-1f4dfe5dcd6c"
   },
   "outputs": [
    {
     "name": "stdout",
     "output_type": "stream",
     "text": [
      "      service_center_name            location  rate   latitude  longitude\n",
      "0  El Mikaneeky - ElNozha  Nasr City  - Cairo  2.63  30.052118  31.342205\n",
      "1               IN.MOTORS   6 October  - Giza  3.10  29.963099  30.954899\n",
      "2                fix lane   6 October  - Giza  4.19  29.963099  30.954899\n",
      "3              7 Cylinder   6 October  - Giza  4.59  29.963099  30.954899\n",
      "4               Auto zone    Mokatam  - Cairo  3.67        NaN        NaN\n"
     ]
    }
   ],
   "source": [
    "from geopy.geocoders import Nominatim\n",
    "from geopy.exc import GeocoderTimedOut\n",
    "from geopy.distance import geodesic\n",
    "import pandas as pd\n",
    "\n",
    "def get_coordinates(location):\n",
    "    geolocator = Nominatim(user_agent=\"service_center_locator\")\n",
    "    try:\n",
    "        geo = geolocator.geocode(location)\n",
    "        if geo:\n",
    "            return geo.latitude, geo.longitude\n",
    "    except GeocoderTimedOut:\n",
    "        return None, None\n",
    "    except Exception as e:\n",
    "        print(f\"Error geocoding {location}: {e}\")\n",
    "        return None, None\n",
    "    return None, None\n",
    "\n",
    "df[['latitude', 'longitude']] = df['location'].apply(lambda loc: pd.Series(get_coordinates(loc)))\n",
    "df.to_csv(\"service_centers.csv\", index=False)\n",
    "\n",
    "print(df.head())"
   ]
  },
  {
   "cell_type": "code",
   "execution_count": 7,
   "metadata": {
    "colab": {
     "base_uri": "https://localhost:8080/",
     "height": 241
    },
    "id": "YR_VjGUMIWS4",
    "outputId": "056b3ef2-dfb2-4798-8f73-5a69405c5349"
   },
   "outputs": [
    {
     "data": {
      "text/plain": [
       "service_center_name      0\n",
       "location                 0\n",
       "rate                     0\n",
       "latitude               200\n",
       "longitude              200\n",
       "dtype: int64"
      ]
     },
     "execution_count": 7,
     "metadata": {},
     "output_type": "execute_result"
    }
   ],
   "source": [
    "df.isna().sum()"
   ]
  },
  {
   "cell_type": "code",
   "execution_count": 8,
   "metadata": {
    "id": "cmMNACyoLQZC"
   },
   "outputs": [],
   "source": [
    "df.dropna(inplace=True)"
   ]
  },
  {
   "cell_type": "code",
   "execution_count": 9,
   "metadata": {
    "id": "kwdtVbNDLj2t"
   },
   "outputs": [],
   "source": [
    "def recommend_service_centers(user_location, df, top_n=5):\n",
    "    user_lat, user_lon = get_coordinates(user_location)\n",
    "    if user_lat is None or user_lon is None:\n",
    "        print(\"Error: Unable to get coordinates for the location.\")\n",
    "        return None\n",
    "    \n",
    "    # حساب المسافة بين المستخدم وكل مركز صيانة\n",
    "    df = df.dropna(subset=[\"latitude\", \"longitude\"])  # إزالة القيم الفارغة\n",
    "    df[\"distance\"] = df.apply(lambda row: geodesic((user_lat, user_lon), (row[\"latitude\"], row[\"longitude\"])).km, axis=1)\n",
    "    \n",
    "    # ترتيب المراكز بناءً على (المسافة الأقرب أولًا، ثم التقييم الأعلى)\n",
    "    recommended = df.sort_values(by=[\"distance\", \"rate\"], ascending=[True, False]).head(top_n)\n",
    "    \n",
    "    return recommended[[\"service_center_name\", \"location\", \"rate\", \"distance\"]]"
   ]
  },
  {
   "cell_type": "code",
   "execution_count": 10,
   "metadata": {},
   "outputs": [
    {
     "name": "stdin",
     "output_type": "stream",
     "text": [
      "Location:  Giza\n"
     ]
    },
    {
     "name": "stdout",
     "output_type": "stream",
     "text": [
      "          service_center_name        location  rate  distance\n",
      "27                       Toto            Giza   0.0  0.000000\n",
      "109  Kuwait & Arab States Co.    Doki  - Giza   2.0  5.754929\n",
      "13                 Bright Car  Maadi  - Cairo   5.0  5.766533\n",
      "17     ACA Al-Aksa Auto Group  Maadi  - Cairo   5.0  5.766533\n",
      "20                 New Shahin  Maadi  - Cairo   5.0  5.766533\n"
     ]
    }
   ],
   "source": [
    "user_location = input(\"Location: \")\n",
    "recommendations = recommend_service_centers(user_location, df)\n",
    "\n",
    "if recommendations is not None:\n",
    "    print(recommendations)\n"
   ]
  },
  {
   "cell_type": "code",
   "execution_count": null,
   "metadata": {
    "colab": {
     "base_uri": "https://localhost:8080/"
    },
    "id": "tDsfU1J_04rh",
    "outputId": "fc57846a-e663-4625-8860-9f64051fde0b"
   },
   "outputs": [],
   "source": []
  },
  {
   "cell_type": "code",
   "execution_count": 16,
   "metadata": {
    "colab": {
     "base_uri": "https://localhost:8080/",
     "height": 423
    },
    "id": "l31pgoQ2Lkf9",
    "outputId": "ffdfbb48-1824-409b-f305-dab15e16dceb"
   },
   "outputs": [
    {
     "data": {
      "text/html": [
       "<div>\n",
       "<style scoped>\n",
       "    .dataframe tbody tr th:only-of-type {\n",
       "        vertical-align: middle;\n",
       "    }\n",
       "\n",
       "    .dataframe tbody tr th {\n",
       "        vertical-align: top;\n",
       "    }\n",
       "\n",
       "    .dataframe thead th {\n",
       "        text-align: right;\n",
       "    }\n",
       "</style>\n",
       "<table border=\"1\" class=\"dataframe\">\n",
       "  <thead>\n",
       "    <tr style=\"text-align: right;\">\n",
       "      <th></th>\n",
       "      <th>service_center_name</th>\n",
       "      <th>location</th>\n",
       "      <th>rate</th>\n",
       "      <th>latitude</th>\n",
       "      <th>longitude</th>\n",
       "    </tr>\n",
       "  </thead>\n",
       "  <tbody>\n",
       "    <tr>\n",
       "      <th>0</th>\n",
       "      <td>El Mikaneeky - ElNozha</td>\n",
       "      <td>Nasr City  - Cairo</td>\n",
       "      <td>2.63</td>\n",
       "      <td>30.052118</td>\n",
       "      <td>31.342205</td>\n",
       "    </tr>\n",
       "    <tr>\n",
       "      <th>1</th>\n",
       "      <td>IN.MOTORS</td>\n",
       "      <td>6 October  - Giza</td>\n",
       "      <td>3.10</td>\n",
       "      <td>29.963099</td>\n",
       "      <td>30.954899</td>\n",
       "    </tr>\n",
       "    <tr>\n",
       "      <th>2</th>\n",
       "      <td>fix lane</td>\n",
       "      <td>6 October  - Giza</td>\n",
       "      <td>4.19</td>\n",
       "      <td>29.963099</td>\n",
       "      <td>30.954899</td>\n",
       "    </tr>\n",
       "    <tr>\n",
       "      <th>3</th>\n",
       "      <td>7 Cylinder</td>\n",
       "      <td>6 October  - Giza</td>\n",
       "      <td>4.59</td>\n",
       "      <td>29.963099</td>\n",
       "      <td>30.954899</td>\n",
       "    </tr>\n",
       "    <tr>\n",
       "      <th>6</th>\n",
       "      <td>Amir &amp; Joseph</td>\n",
       "      <td>Nasr City  - Cairo</td>\n",
       "      <td>0.00</td>\n",
       "      <td>30.052118</td>\n",
       "      <td>31.342205</td>\n",
       "    </tr>\n",
       "    <tr>\n",
       "      <th>...</th>\n",
       "      <td>...</td>\n",
       "      <td>...</td>\n",
       "      <td>...</td>\n",
       "      <td>...</td>\n",
       "      <td>...</td>\n",
       "    </tr>\n",
       "    <tr>\n",
       "      <th>509</th>\n",
       "      <td>El Mikaneeky - el sheikh zayed</td>\n",
       "      <td>6 October  - Giza</td>\n",
       "      <td>2.50</td>\n",
       "      <td>29.963099</td>\n",
       "      <td>30.954899</td>\n",
       "    </tr>\n",
       "    <tr>\n",
       "      <th>510</th>\n",
       "      <td>Renault El Sharkawy - El October</td>\n",
       "      <td>6 October  - Giza</td>\n",
       "      <td>0.50</td>\n",
       "      <td>29.963099</td>\n",
       "      <td>30.954899</td>\n",
       "    </tr>\n",
       "    <tr>\n",
       "      <th>511</th>\n",
       "      <td>BMW Station -Rehab city</td>\n",
       "      <td>El-Rehab  - Cairo</td>\n",
       "      <td>0.00</td>\n",
       "      <td>30.063584</td>\n",
       "      <td>31.488994</td>\n",
       "    </tr>\n",
       "    <tr>\n",
       "      <th>512</th>\n",
       "      <td>BMW Station -Madinaty city</td>\n",
       "      <td>el shorouk city  - Cairo</td>\n",
       "      <td>2.50</td>\n",
       "      <td>30.149151</td>\n",
       "      <td>31.629195</td>\n",
       "    </tr>\n",
       "    <tr>\n",
       "      <th>514</th>\n",
       "      <td>Elite Car</td>\n",
       "      <td>6 October  - Giza</td>\n",
       "      <td>0.00</td>\n",
       "      <td>29.963099</td>\n",
       "      <td>30.954899</td>\n",
       "    </tr>\n",
       "  </tbody>\n",
       "</table>\n",
       "<p>315 rows × 5 columns</p>\n",
       "</div>"
      ],
      "text/plain": [
       "                  service_center_name                  location  rate  \\\n",
       "0              El Mikaneeky - ElNozha        Nasr City  - Cairo  2.63   \n",
       "1                           IN.MOTORS         6 October  - Giza  3.10   \n",
       "2                            fix lane         6 October  - Giza  4.19   \n",
       "3                          7 Cylinder         6 October  - Giza  4.59   \n",
       "6                       Amir & Joseph        Nasr City  - Cairo  0.00   \n",
       "..                                ...                       ...   ...   \n",
       "509    El Mikaneeky - el sheikh zayed         6 October  - Giza  2.50   \n",
       "510  Renault El Sharkawy - El October         6 October  - Giza  0.50   \n",
       "511           BMW Station -Rehab city         El-Rehab  - Cairo  0.00   \n",
       "512        BMW Station -Madinaty city  el shorouk city  - Cairo  2.50   \n",
       "514                         Elite Car         6 October  - Giza  0.00   \n",
       "\n",
       "      latitude  longitude  \n",
       "0    30.052118  31.342205  \n",
       "1    29.963099  30.954899  \n",
       "2    29.963099  30.954899  \n",
       "3    29.963099  30.954899  \n",
       "6    30.052118  31.342205  \n",
       "..         ...        ...  \n",
       "509  29.963099  30.954899  \n",
       "510  29.963099  30.954899  \n",
       "511  30.063584  31.488994  \n",
       "512  30.149151  31.629195  \n",
       "514  29.963099  30.954899  \n",
       "\n",
       "[315 rows x 5 columns]"
      ]
     },
     "execution_count": 16,
     "metadata": {},
     "output_type": "execute_result"
    }
   ],
   "source": [
    "df"
   ]
  },
  {
   "cell_type": "code",
   "execution_count": null,
   "metadata": {
    "id": "-7oNYJziBeL0"
   },
   "outputs": [],
   "source": []
  },
  {
   "cell_type": "code",
   "execution_count": 12,
   "metadata": {
    "id": "Nib5q5KHBePL"
   },
   "outputs": [],
   "source": [
    "import pickle\n",
    "\n",
    "with open(\"recommend_service_centers.pkl\", \"wb\") as file:\n",
    "    pickle.dump(recommend_service_centers, file)\n"
   ]
  },
  {
   "cell_type": "code",
   "execution_count": 13,
   "metadata": {
    "colab": {
     "base_uri": "https://localhost:8080/"
    },
    "id": "uVFNhKvRtzTs",
    "outputId": "70b5329d-899c-4d12-f924-8183974d22ed"
   },
   "outputs": [
    {
     "name": "stdout",
     "output_type": "stream",
     "text": [
      "<function recommend_service_centers at 0x0000028A4963ADE0>\n"
     ]
    }
   ],
   "source": [
    "# تحميل البيانات من الملف\n",
    "with open(\"recommend_service_centers.pkl\", \"rb\") as file:\n",
    "    model = pickle.load(file)\n",
    "\n",
    "print(model)\n",
    "\n"
   ]
  },
  {
   "cell_type": "code",
   "execution_count": null,
   "metadata": {},
   "outputs": [],
   "source": []
  },
  {
   "cell_type": "code",
   "execution_count": 14,
   "metadata": {
    "id": "8_SWCHAJ2ZmR"
   },
   "outputs": [],
   "source": [
    "from fastapi import FastAPI, HTTPException\n",
    "from pydantic import BaseModel\n",
    "import pandas as pd\n",
    "import pickle\n",
    "from geopy.geocoders import Nominatim\n",
    "from geopy.exc import GeocoderTimedOut\n",
    "from geopy.distance import geodesic\n",
    "import logging"
   ]
  },
  {
   "cell_type": "code",
   "execution_count": 15,
   "metadata": {},
   "outputs": [],
   "source": [
    "# Initialize FastAPI app\n",
    "app = FastAPI(title=\"Service Center Recommendation API\")\n",
    "\n",
    "# Set up logging\n",
    "logging.basicConfig(level=logging.INFO)\n",
    "logger = logging.getLogger(__name__)\n",
    "\n",
    "# Load the pickled recommendation function\n",
    "with open(\"recommend_service_centers.pkl\", \"rb\") as file:\n",
    "    recommend_service_centers = pickle.load(file)\n",
    "\n",
    "# Load the service centers DataFrame\n",
    "df = pd.read_csv(\"service_centers.csv\")\n",
    "df = df.dropna(subset=[\"latitude\", \"longitude\"])  # Ensure no missing coordinates\n",
    "\n",
    "# Define the input model for the API\n",
    "class LocationRequest(BaseModel):\n",
    "    location: str\n",
    "    top_n: int = 5  # Default to 5 recommendations\n",
    "\n",
    "# Define the geocoding function\n",
    "def get_coordinates(location):\n",
    "    geolocator = Nominatim(user_agent=\"service_center_locator\")\n",
    "    try:\n",
    "        geo = geolocator.geocode(location, timeout=10)\n",
    "        if geo:\n",
    "            return geo.latitude, geo.longitude\n",
    "        else:\n",
    "            logger.error(f\"No coordinates found for location: {location}\")\n",
    "            return None, None\n",
    "    except GeocoderTimedOut:\n",
    "        logger.error(f\"Geocoding timed out for location: {location}\")\n",
    "        return None, None\n",
    "    except Exception as e:\n",
    "        logger.error(f\"Error geocoding {location}: {e}\")\n",
    "        return None, None\n",
    "\n",
    "# Root endpoint for testing\n",
    "@app.get(\"/\")\n",
    "def read_root():\n",
    "    return {\"message\": \"Service Center Recommendation API is running\"}\n",
    "\n",
    "# Recommendation endpoint\n",
    "@app.post(\"/recommend\")\n",
    "async def get_recommendations(request: LocationRequest):\n",
    "    try:\n",
    "        # Call the recommendation function\n",
    "        recommendations = recommend_service_centers(request.location, df, request.top_n)\n",
    "        \n",
    "        if recommendations is None or recommendations.empty:\n",
    "            raise HTTPException(status_code=400, detail=\"Unable to get recommendations for the provided location\")\n",
    "        \n",
    "        # Convert DataFrame to JSON-compatible format\n",
    "        recommendations = recommendations.to_dict(orient=\"records\")\n",
    "        return {\"recommendations\": recommendations}\n",
    "    \n",
    "    except Exception as e:\n",
    "        logger.error(f\"Error processing request: {e}\")\n",
    "        raise HTTPException(status_code=500, detail=str(e))\n",
    "\n",
    "# Run the app with: uvicorn main:app --reload"
   ]
  },
  {
   "cell_type": "code",
   "execution_count": null,
   "metadata": {},
   "outputs": [],
   "source": []
  }
 ],
 "metadata": {
  "accelerator": "GPU",
  "colab": {
   "gpuType": "T4",
   "provenance": []
  },
  "kernelspec": {
   "display_name": "Python 3 (ipykernel)",
   "language": "python",
   "name": "python3"
  },
  "language_info": {
   "codemirror_mode": {
    "name": "ipython",
    "version": 3
   },
   "file_extension": ".py",
   "mimetype": "text/x-python",
   "name": "python",
   "nbconvert_exporter": "python",
   "pygments_lexer": "ipython3",
   "version": "3.12.4"
  }
 },
 "nbformat": 4,
 "nbformat_minor": 4
}
